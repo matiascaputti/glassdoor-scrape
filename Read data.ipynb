{
 "cells": [
  {
   "cell_type": "markdown",
   "metadata": {},
   "source": [
    "## Read data"
   ]
  },
  {
   "cell_type": "code",
   "execution_count": 1,
   "metadata": {
    "scrolled": true
   },
   "outputs": [],
   "source": [
    "import numpy as np\n",
    "import pandas as pd\n",
    "import matplotlib.pyplot as plt\n",
    "plt.rcParams[\"figure.figsize\"] = [12, 6]\n",
    "\n",
    "import pickle\n",
    "from utils.helpers import create_df, find_skills_frequency"
   ]
  },
  {
   "cell_type": "code",
   "execution_count": 2,
   "metadata": {},
   "outputs": [],
   "source": [
    "pkl_file_name = 'data-scientist_new-york'"
   ]
  },
  {
   "cell_type": "code",
   "execution_count": 3,
   "metadata": {},
   "outputs": [],
   "source": [
    "pkl_file_path = f'data/{pkl_file_name}.pickle'\n",
    "file_object = open(pkl_file_path, 'rb')\n",
    "results = pickle.load(file_object)\n",
    "file_object.close()"
   ]
  },
  {
   "cell_type": "code",
   "execution_count": 4,
   "metadata": {
    "scrolled": true
   },
   "outputs": [
    {
     "name": "stdout",
     "output_type": "stream",
     "text": [
      "221 duplicates found.\n",
      "dataframe created.\n"
     ]
    },
    {
     "data": {
      "text/html": [
       "<div>\n",
       "<style scoped>\n",
       "    .dataframe tbody tr th:only-of-type {\n",
       "        vertical-align: middle;\n",
       "    }\n",
       "\n",
       "    .dataframe tbody tr th {\n",
       "        vertical-align: top;\n",
       "    }\n",
       "\n",
       "    .dataframe thead th {\n",
       "        text-align: right;\n",
       "    }\n",
       "</style>\n",
       "<table border=\"1\" class=\"dataframe\">\n",
       "  <thead>\n",
       "    <tr style=\"text-align: right;\">\n",
       "      <th></th>\n",
       "      <th>company</th>\n",
       "      <th>description</th>\n",
       "      <th>location</th>\n",
       "      <th>salary</th>\n",
       "      <th>title</th>\n",
       "    </tr>\n",
       "  </thead>\n",
       "  <tbody>\n",
       "    <tr>\n",
       "      <th>1</th>\n",
       "      <td>Tapad</td>\n",
       "      <td>Small Teams; Big Data\\n\\nAt Tapad, we look for...</td>\n",
       "      <td>New York, NY</td>\n",
       "      <td>$ 107 mil-$ 176 mil (Est. de Glassdoor)</td>\n",
       "      <td>Data Scientist</td>\n",
       "    </tr>\n",
       "    <tr>\n",
       "      <th>2</th>\n",
       "      <td>Codecademy</td>\n",
       "      <td>Hello, World! Codecademy has helped tens of mi...</td>\n",
       "      <td>New York, NY</td>\n",
       "      <td>$ 97 mil-$ 160 mil (Est. de Glassdoor)</td>\n",
       "      <td>Senior Data Scientist, Analytics &amp; Inference</td>\n",
       "    </tr>\n",
       "    <tr>\n",
       "      <th>3</th>\n",
       "      <td>Amneal Pharmaceuticals</td>\n",
       "      <td>The Scientist III develops and executes formul...</td>\n",
       "      <td>Piscataway, NJ</td>\n",
       "      <td>$ 27 mil-$ 85 mil (Est. de Glassdoor)</td>\n",
       "      <td>Scientist III, Pharma R &amp; D</td>\n",
       "    </tr>\n",
       "    <tr>\n",
       "      <th>4</th>\n",
       "      <td>Regeneron</td>\n",
       "      <td>The successful candidate will play an integral...</td>\n",
       "      <td>Tarrytown, NY</td>\n",
       "      <td>$ 47 mil-$ 103 mil (Est. de Glassdoor)</td>\n",
       "      <td>Associate Scientist</td>\n",
       "    </tr>\n",
       "    <tr>\n",
       "      <th>5</th>\n",
       "      <td>Bloomberg</td>\n",
       "      <td>What is Enterprise Data?\\n\\nBloomberg's Enterp...</td>\n",
       "      <td>New York, NY</td>\n",
       "      <td>$ 93 mil-$ 150 mil (Est. de Glassdoor)</td>\n",
       "      <td>Data Science Solutions Architect</td>\n",
       "    </tr>\n",
       "  </tbody>\n",
       "</table>\n",
       "</div>"
      ],
      "text/plain": [
       "                  company                                        description  \\\n",
       "1                   Tapad  Small Teams; Big Data\\n\\nAt Tapad, we look for...   \n",
       "2              Codecademy  Hello, World! Codecademy has helped tens of mi...   \n",
       "3  Amneal Pharmaceuticals  The Scientist III develops and executes formul...   \n",
       "4               Regeneron  The successful candidate will play an integral...   \n",
       "5               Bloomberg  What is Enterprise Data?\\n\\nBloomberg's Enterp...   \n",
       "\n",
       "         location                                   salary  \\\n",
       "1    New York, NY  $ 107 mil-$ 176 mil (Est. de Glassdoor)   \n",
       "2    New York, NY   $ 97 mil-$ 160 mil (Est. de Glassdoor)   \n",
       "3  Piscataway, NJ    $ 27 mil-$ 85 mil (Est. de Glassdoor)   \n",
       "4   Tarrytown, NY   $ 47 mil-$ 103 mil (Est. de Glassdoor)   \n",
       "5    New York, NY   $ 93 mil-$ 150 mil (Est. de Glassdoor)   \n",
       "\n",
       "                                          title  \n",
       "1                                Data Scientist  \n",
       "2  Senior Data Scientist, Analytics & Inference  \n",
       "3                   Scientist III, Pharma R & D  \n",
       "4                           Associate Scientist  \n",
       "5              Data Science Solutions Architect  "
      ]
     },
     "execution_count": 4,
     "metadata": {},
     "output_type": "execute_result"
    }
   ],
   "source": [
    "results_df = create_df(results)\n",
    "\n",
    "results_df.head()"
   ]
  },
  {
   "cell_type": "code",
   "execution_count": 5,
   "metadata": {},
   "outputs": [
    {
     "data": {
      "text/plain": [
       "\"Small Teams; Big Data\\n\\nAt Tapad, we look for individuals who are motivated by complex and challenging work. We want to work with people who share compelling solutions to those challenges, solutions informed by their unique experiences, passions, and expertise.\\n\\nWe are looking for a Data Scientist to research and develop state-of-the-art algorithms and help build models to support Tapad's mission to create the world's largest identity graph. As part of Tapad's Data Science team, you will leverage cutting edge technologies and techniques to impact our core intellectual property and commercial products. This includes, but is not limited to, machine learning, deep learning, NLP, Google Cloud AI Platform, BigQuery, TensorFlow Extended, and Kubeflow Pipelines.\\n\\nTapad Data Scientists are responsible for turning new ideas into innovative products. You will work closely with our technologists to actualize your research and solutions into concrete commercial products and services. You will also collaborate with product managers and business stakeholders to understand our customers' needs and the broader addressable market.\\n\\nWhen you work with us, you matter. We ask our employees to make an impact and feel it is only right to give a lot in return. We offer every employee a 401k with matching, generous parental leave, and unlimited PTO (and we mean it!). We believe if you're sick, feel like you're getting sick, or just need a personal day, you should take that time to get better. We have free virtual lunches every month, free continuous education, and an open-door policy every day. We make sure our virtual office is a welcoming space full of individuals who can teach and learn from one another every day.\\n\\nTechnologies we use at Tapad (don't worry, we'll teach you):\\nPython, SQL, Scala\\nSpark, SparkML, SciKit Learn, AutoML, BigQuery ML, TensorFlow Extended (TFX)\\nGoogle Cloud Platform (GCP), BigQuery, Apache Airflow\\nWe are looking for candidates who meet some of the following qualifications:\\nMaster's degree in a quantitative discipline (e.g. Computer Science, Engineering, Mathematics, Statistics, Physics, Chemistry, etc.)\\n3+ years experience in applying machine learning techniques, advanced analytics, and statistics, either in an academic setting or as a data scientist\\nExperience working with large data sets using SQL, Spark, Hadoop, or MapReduce\\nUnderstanding of programming concepts and experience with programming languages, such as Python, R, Java, Scala, MATLAB\\nStrong communication skills, both verbal and written\\nExperience working in a large-scale, distributed system environment\\nBonus Qualification & Experience:\\nPh.D. in a quantitative discipline\\nExperience using cloud computing technologies\\nA day in the life as a Tapad Data Scientist:\\nYou will use machine learning (e.g. deep learning), clustering, statistical modeling, and other advanced techniques to infer connections from petabytes of data\\nEmploy predictive modeling, data mining, graph algorithms, and other data science techniques to contribute to and enhance our cross-device identity resolution portfolio\\nDesign experiments and apply appropriate metrics to measure the impact of the developed models\\nPartner with other data scientists and engineers to turn various machine learning, clustering, and statistical solutions into viable and scalable products\\nCollaborate with product managers and business partners to understand market needs and to help identify new opportunities for Tapad\\nTapad Perks:\\nGenerous PTO - no accruing necessary\\n401k matching, Life, LTD & STD Insurance, dental, vision, and telehealth plan with 24/7 access to a dedicated team of physical and mental healthcare providers\\nScala School (we'll teach you!), Coursera, LinkedIn Learning, peer-led professional development, and an abundance of resources to help you stay sharp\\nUnlimited snacks and beverages, collaboration catered lunches (virtual lunches until we're back in the office)\\nDiscounts on gym memberships\\nFoosball, ping pong, diversity and inclusion group, book club, Tough Mudder, push-up challenges, and tons of other extra-curricular activities that will make you feel like part of the Tapad family (virtual game nights and happy hours until we're back in the office)\\nCheck out our #TapadLife page to see what our employees have to say\\nFind more about our engineering culture HERE\\nMore about Tapad:\\n\\nFounded in 2010, Tapad cracked the code on cross-device marketing technology. Our groundbreaking, proprietary technology assimilates trillions of data points to find the relationship between smartphones, desktops, laptops, tablets, and connected TVs. Ten years later, we are processing data at petabyte scale, with an engineering team that comprises roughly half of our entire organization. When you work with us, you matter, and your work matters.\\n\\nIn combination with large-scale data processing and open-source technologies, we use Scala to build our device graph. Across our engineering teams, we also use Scala, GCP, Spark, Kubernetes, Python, TypeScript, and anything else that helps us get the job done. We're open-minded about new technologies, we're passionate about what we do, and we make time for everyone to learn and grow as the industry changes. Engineers at Tapad are approachable and ambitious people who think outside the box and solve big problems collaboratively. Are you up for the challenge?\\n\\nTapad is proud to be an equal opportunity employer and will consider all qualified applicants regardless of age, sex, race, religion, national origin, sexual orientation, gender identity, marital or family status, disability, or any other legally protected status.\\n\\nTapad does not accept resumes from unsolicited search firms nor recruiters. In no event shall fees be paid to any unsolicited search firms nor recruiters, regardless of whether the candidate is made an offer or accepts a placement at Tapad. All resumes received through any channels will be considered the sole property of Tapad.\""
      ]
     },
     "execution_count": 5,
     "metadata": {},
     "output_type": "execute_result"
    }
   ],
   "source": [
    "results_df.loc[1, 'description']"
   ]
  },
  {
   "cell_type": "code",
   "execution_count": 6,
   "metadata": {},
   "outputs": [],
   "source": [
    "results_df.to_csv(f'out/csv/{pkl_file_name}.csv', index=None)"
   ]
  },
  {
   "cell_type": "code",
   "execution_count": 7,
   "metadata": {},
   "outputs": [
    {
     "data": {
      "text/html": [
       "<div>\n",
       "<style scoped>\n",
       "    .dataframe tbody tr th:only-of-type {\n",
       "        vertical-align: middle;\n",
       "    }\n",
       "\n",
       "    .dataframe tbody tr th {\n",
       "        vertical-align: top;\n",
       "    }\n",
       "\n",
       "    .dataframe thead th {\n",
       "        text-align: right;\n",
       "    }\n",
       "</style>\n",
       "<table border=\"1\" class=\"dataframe\">\n",
       "  <thead>\n",
       "    <tr style=\"text-align: right;\">\n",
       "      <th></th>\n",
       "      <th>Term</th>\n",
       "      <th>NumPostings</th>\n",
       "    </tr>\n",
       "  </thead>\n",
       "  <tbody>\n",
       "    <tr>\n",
       "      <th>1</th>\n",
       "      <td>Python</td>\n",
       "      <td>62.389381</td>\n",
       "    </tr>\n",
       "    <tr>\n",
       "      <th>44</th>\n",
       "      <td>Statistics</td>\n",
       "      <td>43.510324</td>\n",
       "    </tr>\n",
       "    <tr>\n",
       "      <th>0</th>\n",
       "      <td>R</td>\n",
       "      <td>39.380531</td>\n",
       "    </tr>\n",
       "    <tr>\n",
       "      <th>45</th>\n",
       "      <td>Mathematics</td>\n",
       "      <td>29.056047</td>\n",
       "    </tr>\n",
       "    <tr>\n",
       "      <th>42</th>\n",
       "      <td>PhD</td>\n",
       "      <td>21.976401</td>\n",
       "    </tr>\n",
       "    <tr>\n",
       "      <th>40</th>\n",
       "      <td>Bachelor</td>\n",
       "      <td>21.238938</td>\n",
       "    </tr>\n",
       "    <tr>\n",
       "      <th>41</th>\n",
       "      <td>Master</td>\n",
       "      <td>20.648968</td>\n",
       "    </tr>\n",
       "    <tr>\n",
       "      <th>13</th>\n",
       "      <td>Tableau</td>\n",
       "      <td>19.469027</td>\n",
       "    </tr>\n",
       "    <tr>\n",
       "      <th>51</th>\n",
       "      <td>Spark</td>\n",
       "      <td>18.289086</td>\n",
       "    </tr>\n",
       "    <tr>\n",
       "      <th>12</th>\n",
       "      <td>Excel</td>\n",
       "      <td>16.519174</td>\n",
       "    </tr>\n",
       "  </tbody>\n",
       "</table>\n",
       "</div>"
      ],
      "text/plain": [
       "           Term  NumPostings\n",
       "1        Python    62.389381\n",
       "44   Statistics    43.510324\n",
       "0             R    39.380531\n",
       "45  Mathematics    29.056047\n",
       "42          PhD    21.976401\n",
       "40     Bachelor    21.238938\n",
       "41       Master    20.648968\n",
       "13      Tableau    19.469027\n",
       "51        Spark    18.289086\n",
       "12        Excel    16.519174"
      ]
     },
     "execution_count": 7,
     "metadata": {},
     "output_type": "execute_result"
    }
   ],
   "source": [
    "skills_df = find_skills_frequency(results_df).sort_values(by='NumPostings', ascending=False)\n",
    "skills_df.head(10)"
   ]
  },
  {
   "cell_type": "code",
   "execution_count": 8,
   "metadata": {},
   "outputs": [],
   "source": [
    "skills_df.to_csv(f'out/skills/{pkl_file_name}_skills.csv', index=None)"
   ]
  },
  {
   "cell_type": "code",
   "execution_count": 9,
   "metadata": {},
   "outputs": [
    {
     "data": {
      "image/png": "[encoded data removed]",
      "text/plain": [
       "<Figure size 864x432 with 1 Axes>"
      ]
     },
     "metadata": {
      "needs_background": "light"
     },
     "output_type": "display_data"
    }
   ],
   "source": [
    "skills_df.plot(x='Term', y='NumPostings', kind='bar')\n",
    "plt.show()"
   ]
  },
  {
   "cell_type": "code",
   "execution_count": 10,
   "metadata": {},
   "outputs": [
    {
     "data": {
      "image/png": "[encoded data removed]",
      "text/plain": [
       "<Figure size 864x432 with 1 Axes>"
      ]
     },
     "metadata": {
      "needs_background": "light"
     },
     "output_type": "display_data"
    }
   ],
   "source": [
    "top_skills = int(len(skills_df)*.2)\n",
    "num_postings_top_skills = skills_df[:top_skills].NumPostings.sum() / skills_df.NumPostings.sum()\n",
    "\n",
    "title = \"The Top 20% of Skills Account for \" + str(round(num_postings_top_skills*100)) + \"% of Key Word Appearances in Postings\"\n",
    "skills_df[:top_skills].plot(x='Term', y='NumPostings', kind='bar', title=title)\n",
    "plt.show()"
   ]
  }
 ],
 "metadata": {
  "kernelspec": {
   "display_name": "Python 3",
   "language": "python",
   "name": "python3"
  },
  "language_info": {
   "codemirror_mode": {
    "name": "ipython",
    "version": 3
   },
   "file_extension": ".py",
   "mimetype": "text/x-python",
   "name": "python",
   "nbconvert_exporter": "python",
   "pygments_lexer": "ipython3",
   "version": "3.8.4"
  }
 },
 "nbformat": 4,
 "nbformat_minor": 4
}
